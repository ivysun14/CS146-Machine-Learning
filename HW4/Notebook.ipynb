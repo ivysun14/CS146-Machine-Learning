{
  "cells": [
    {
      "attachments": {},
      "cell_type": "markdown",
      "metadata": {
        "id": "5jhNkul8NxvA"
      },
      "source": [
        "# Problem: K-Means Algorithm\n",
        "\n",
        "In this problem, we shall apply K-Means Algorithm to a popular visual classification dataset CIFAR-10. CIFAR-10 dataset consists of 60K labeled 32 x 32 colored images i.e., each image would have 3 channels corresponding to RGB colors. Out of the total 60K images, 50K images belong to the training set and 10K belong to the testing set. Within the scope of this problem, we shall work with the testing set only for computational efficiency purposes. Additionally, as K-Means is an unsupervised learning algorithm, we shall discard the labels associated with the images.\n",
        "\n",
        "Dataset:\n",
        "* **CIFAR-10 Dataset**: https://www.cs.toronto.edu/~kriz/cifar.html"
      ]
    },
    {
      "cell_type": "code",
      "execution_count": null,
      "metadata": {
        "id": "_gNicxsYS2sf"
      },
      "outputs": [],
      "source": [
        "import pandas as pd\n",
        "import numpy as np\n",
        "import matplotlib.pyplot as plt\n",
        "from sklearn.cluster import KMeans\n",
        "from tqdm import tqdm"
      ]
    },
    {
      "cell_type": "code",
      "execution_count": null,
      "metadata": {
        "id": "DagYciWRTpKm"
      },
      "outputs": [],
      "source": [
        "## Function to load the CIFAR10 data\n",
        "## Documentation of CIFAR10: https://www.cs.toronto.edu/~kriz/cifar.html\n",
        "def dataloader():\n",
        "  import tensorflow as tf\n",
        "  cifar10 = tf.keras.datasets.cifar10\n",
        "  (_, _), (X, y) = cifar10.load_data()\n",
        "  return X, y"
      ]
    },
    {
      "cell_type": "code",
      "execution_count": null,
      "metadata": {
        "id": "lUBxH5COTpWb"
      },
      "outputs": [],
      "source": [
        "## simple utility function to visualize the data\n",
        "def visualize(X, ind):\n",
        "  from PIL import Image \n",
        "  plt.imshow(Image.fromarray(X[ind], 'RGB'))"
      ]
    },
    {
      "cell_type": "code",
      "execution_count": null,
      "metadata": {
        "id": "9eARNIUlTq0r"
      },
      "outputs": [],
      "source": [
        "X, y = dataloader()"
      ]
    },
    {
      "cell_type": "code",
      "execution_count": null,
      "metadata": {
        "colab": {
          "base_uri": "https://localhost:8080/"
        },
        "id": "zdhStn3ETsp3",
        "outputId": "18eb8684-a63b-4453-b9e9-d27d8df141f4"
      },
      "outputs": [
        {
          "data": {
            "text/plain": [
              "((10000, 32, 32, 3), (10000, 1))"
            ]
          },
          "execution_count": 12,
          "metadata": {},
          "output_type": "execute_result"
        }
      ],
      "source": [
        "# 10K images of size 32 x 32 x 3 \n",
        "# where 32 x 32 is the height and width of the image\n",
        "# 3 is the number of channels 'RGB'\n",
        "X.shape, y.shape"
      ]
    },
    {
      "cell_type": "code",
      "execution_count": null,
      "metadata": {
        "colab": {
          "base_uri": "https://localhost:8080/",
          "height": 266
        },
        "id": "YlWk76g4Tt4E",
        "outputId": "128fc569-d35e-4025-8246-3c536796ad4e"
      },
      "outputs": [
        {
          "data": {
            "image/png": "[encoded data removed]",
            "text/plain": [
              "<Figure size 432x288 with 1 Axes>"
            ]
          },
          "metadata": {
            "needs_background": "light"
          },
          "output_type": "display_data"
        }
      ],
      "source": [
        "visualize(X, 1)"
      ]
    },
    {
      "cell_type": "code",
      "execution_count": null,
      "metadata": {
        "id": "stl1q-S1Tvdj"
      },
      "outputs": [],
      "source": [
        "'''\n",
        "  Implement this function to form a 10000 x N matrix \n",
        "  from 10000 x 32 x 32 x 3 shape input.\n",
        "'''\n",
        "def reshape(X):\n",
        "  '''\n",
        "    Write one line of code here\n",
        "  '''\n",
        "  X = X.reshape(10000, 3072)\n",
        "\n",
        "  return X"
      ]
    },
    {
      "cell_type": "code",
      "execution_count": null,
      "metadata": {
        "id": "usmQSj8yT4PD"
      },
      "outputs": [],
      "source": [
        "X = reshape(X)"
      ]
    },
    {
      "cell_type": "code",
      "execution_count": null,
      "metadata": {
        "colab": {
          "base_uri": "https://localhost:8080/"
        },
        "id": "dtSNFihHT67F",
        "outputId": "43b37e31-5aea-4a56-e29c-3c7de8aec37f"
      },
      "outputs": [
        {
          "name": "stderr",
          "output_type": "stream",
          "text": [
            "  0%|          | 0/3 [00:00<?, ?it/s]\n",
            "  0%|          | 0/3 [00:00<?, ?it/s]\u001b[A\n",
            " 33%|███▎      | 1/3 [00:28<00:56, 28.33s/it]\u001b[A\n",
            " 67%|██████▋   | 2/3 [00:55<00:27, 27.64s/it]\u001b[A\n",
            "100%|██████████| 3/3 [01:28<00:00, 29.38s/it]\n",
            " 33%|███▎      | 1/3 [01:28<02:56, 88.16s/it]\n",
            "  0%|          | 0/3 [00:00<?, ?it/s]\u001b[A\n",
            " 33%|███▎      | 1/3 [00:40<01:21, 40.68s/it]\u001b[A\n",
            " 67%|██████▋   | 2/3 [01:17<00:38, 38.30s/it]\u001b[A\n",
            "100%|██████████| 3/3 [01:54<00:00, 38.32s/it]\n",
            " 67%|██████▋   | 2/3 [03:23<01:43, 103.92s/it]\n",
            "  0%|          | 0/3 [00:00<?, ?it/s]\u001b[A\n",
            " 33%|███▎      | 1/3 [00:48<01:36, 48.50s/it]\u001b[A\n",
            " 67%|██████▋   | 2/3 [01:33<00:46, 46.34s/it]\u001b[A\n",
            "100%|██████████| 3/3 [02:31<00:00, 50.61s/it]\n",
            "100%|██████████| 3/3 [05:54<00:00, 118.32s/it]\n"
          ]
        }
      ],
      "source": [
        "clustering_score = []\n",
        "for i in tqdm(range(5, 20, 5)):\n",
        "  score = 0\n",
        "  for rs in tqdm(range(3)):\n",
        "    kmeans = KMeans(n_clusters = i, init = 'random', random_state = rs)\n",
        "    '''\n",
        "      Write one line of code to fit the kMeans algorithm to the data\n",
        "      Write another line of code to report the kMeans clustering score defined as\n",
        "      Sum of squared distances of samples to their closest cluster center, weighted by the sample weights if provided.\n",
        "      Hint: https://scikit-learn.org/stable/modules/generated/sklearn.cluster.KMeans.html\n",
        "    '''\n",
        "    kmeans.fit(X)\n",
        "    score += kmeans.score(X)\n",
        "\n",
        "  clustering_score.append(score/3) ## divide by 3 because 3 random states"
      ]
    },
    {
      "cell_type": "code",
      "execution_count": null,
      "metadata": {
        "colab": {
          "base_uri": "https://localhost:8080/",
          "height": 399
        },
        "id": "us3DG6_BT_pG",
        "outputId": "f58494ad-5cea-460b-a2cc-137e2a0a9255"
      },
      "outputs": [
        {
          "data": {
            "image/png": "[encoded data removed]",
            "text/plain": [
              "<Figure size 720x432 with 1 Axes>"
            ]
          },
          "metadata": {
            "needs_background": "light"
          },
          "output_type": "display_data"
        }
      ],
      "source": [
        "'''\n",
        "  Submit the plot you get after running this piece of code in your solutions\n",
        "'''\n",
        "plt.figure(figsize=(10,6))\n",
        "plt.plot(range(5, 20, 5), clustering_score)\n",
        "plt.xlabel('No. of Clusters')\n",
        "plt.ylabel('Clustering Score')\n",
        "plt.show()"
      ]
    },
    {
      "cell_type": "markdown",
      "metadata": {
        "id": "6oM8LvdIfK6R"
      },
      "source": [
        "### Visualize K Clusters for K = 10 and random_state = 42\n"
      ]
    },
    {
      "cell_type": "code",
      "execution_count": null,
      "metadata": {
        "colab": {
          "base_uri": "https://localhost:8080/"
        },
        "id": "xl_QigqEUBcM",
        "outputId": "ddc70579-8b83-45a4-c28b-f1e1f07c1815"
      },
      "outputs": [
        {
          "name": "stdout",
          "output_type": "stream",
          "text": [
            "[[ -942.07347952   222.28616498]\n",
            " [ 2470.64434414 -2470.94465847]\n",
            " [ 1127.98556199 -2266.20891036]\n",
            " ...\n",
            " [-3932.30280799   646.30724963]\n",
            " [-1557.42431017   496.59140477]\n",
            " [ -492.87137595  -472.69128688]]\n"
          ]
        }
      ],
      "source": [
        "from sklearn.decomposition import PCA\n",
        "pca = PCA(2) \n",
        "#Transform the data\n",
        "df = pca.fit_transform(X)"
      ]
    },
    {
      "cell_type": "code",
      "execution_count": null,
      "metadata": {
        "colab": {
          "base_uri": "https://localhost:8080/",
          "height": 265
        },
        "id": "IkMY_K8gUDeX",
        "outputId": "818c73e5-e447-4843-93d0-8bb83e382c7c"
      },
      "outputs": [
        {
          "data": {
            "image/png": "[encoded data removed]",
            "text/plain": [
              "<Figure size 432x288 with 1 Axes>"
            ]
          },
          "metadata": {
            "needs_background": "light"
          },
          "output_type": "display_data"
        }
      ],
      "source": [
        "### Analyzing the input data in 2D based on its true labels\n",
        "\n",
        "u_labels = np.unique(y[:, 0])\n",
        "\n",
        "for i in u_labels:\n",
        "    plt.scatter(df[y[:, 0] == i , 0] , df[y[:, 0] == i , 1] , label = i)\n",
        "plt.legend()\n",
        "plt.show()"
      ]
    },
    {
      "cell_type": "code",
      "execution_count": null,
      "metadata": {
        "colab": {
          "base_uri": "https://localhost:8080/",
          "height": 265
        },
        "id": "BDq3Bd5rUJGj",
        "outputId": "4bd5c752-7ca6-4e01-ff38-7315245d4ba3"
      },
      "outputs": [
        {
          "data": {
            "image/png": "[encoded data removed]",
            "text/plain": [
              "<Figure size 432x288 with 1 Axes>"
            ]
          },
          "metadata": {
            "needs_background": "light"
          },
          "output_type": "display_data"
        }
      ],
      "source": [
        "'''\n",
        "  Submit the output plot as a part of the solutions\n",
        "'''\n",
        "\n",
        "kmeans = KMeans(n_clusters = 10, init = 'random', random_state = 42)\n",
        "'''\n",
        "  Write one line of code to get the predicted labels of the 10-clusters\n",
        "'''\n",
        "label = kmeans.fit_predict(df)\n",
        "u_labels = np.unique(label)\n",
        "#plotting the results:\n",
        " \n",
        "for i in u_labels:\n",
        "    '''\n",
        "      Write one line of code to get a scatter plot for i-th cluster.\n",
        "      Have its label = i\n",
        "    '''\n",
        "    plt.scatter(df[label[:] == i , 0] , df[label[:] == i , 1] , label = i)\n",
        "\n",
        "plt.legend()\n",
        "plt.show()"
      ]
    },
    {
      "attachments": {},
      "cell_type": "markdown",
      "metadata": {
        "id": "hOk9wtE1f0lP"
      },
      "source": [
        "# Problem: Backprop in a Neural Network \n",
        "\n",
        "In this exercise, we will walk through the forward and backward propagation process for a two-layer fully connected neural network. We will use the same data as in Homework 1, the Fashion-MNIST dataset. The data you will be using is X_train.npy, y_train.npy, X_test.npy, y_test.npy under the FashionMNIST folder."
      ]
    },
    {
      "cell_type": "code",
      "execution_count": null,
      "metadata": {
        "colab": {
          "base_uri": "https://localhost:8080/"
        },
        "id": "MX932ASVgB4x",
        "outputId": "161eec6a-989d-4d2c-fc5b-a45de29ce1a0"
      },
      "outputs": [
        {
          "name": "stdout",
          "output_type": "stream",
          "text": [
            "Drive already mounted at /content/drive; to attempt to forcibly remount, call drive.mount(\"/content/drive\", force_remount=True).\n",
            "Train data shape:  (4500, 784)\n",
            "Train target shape:  (4500,)\n",
            "Val data shape:  (500, 784)\n",
            "Val target shape:  (500,)\n",
            "Test data shape:  (500, 784)\n",
            "Test target shape:  (500,)\n"
          ]
        }
      ],
      "source": [
        "## Load fashionMNIST. This is the same code with homework one.\n",
        "## Part a: Load and visualize the data.\n",
        "# To add your own Drive Run this cell.\n",
        "from google.colab import drive\n",
        "drive.mount('/content/drive')\n",
        "X_train_and_val = np.load('/content/drive/My Drive/CS M146/HW1-code/data/binary_classification/X_train.npy')\n",
        "y_train_and_val = np.load('/content/drive/My Drive/CS M146/HW1-code/data/binary_classification/y_train.npy')\n",
        "X_test = np.load('/content/drive/My Drive/CS M146/HW1-code/data/binary_classification/X_test.npy')\n",
        "y_test = np.load('/content/drive/My Drive/CS M146/HW1-code/data/binary_classification/y_test.npy')\n",
        "X_train, X_val = X_train_and_val[:4500], X_train_and_val[4500:]\n",
        "y_train, y_val = y_train_and_val[:4500], y_train_and_val[4500:]\n",
        "y_train[y_train[:] == -1] = 0\n",
        "y_val[y_val[:] == -1] = 0\n",
        "y_test[y_test[:] == -1] = 0\n",
        "y_train = y_train.squeeze(1)\n",
        "y_val = y_val.squeeze(1)\n",
        "y_test = y_test.squeeze(1)\n",
        "print('Train data shape: ', X_train.shape)\n",
        "print('Train target shape: ', y_train.shape)\n",
        "print('Val data shape: ', X_val.shape)\n",
        "print('Val target shape: ', y_val.shape)\n",
        "print('Test data shape: ',X_test.shape)\n",
        "print('Test target shape: ',y_test.shape)"
      ]
    },
    {
      "cell_type": "code",
      "execution_count": null,
      "metadata": {
        "colab": {
          "base_uri": "https://localhost:8080/",
          "height": 283
        },
        "id": "ImOeXkGdZITO",
        "outputId": "7f36382f-2f7a-45a1-98aa-051896b19125"
      },
      "outputs": [
        {
          "data": {
            "image/png": "[encoded data removed]",
            "text/plain": [
              "<Figure size 432x288 with 1 Axes>"
            ]
          },
          "metadata": {
            "needs_background": "light"
          },
          "output_type": "display_data"
        },
        {
          "name": "stdout",
          "output_type": "stream",
          "text": [
            "label is Shirt\n"
          ]
        }
      ],
      "source": [
        "## Part(a): Load and visualize the data.\n",
        "index = 11\n",
        "X = np.array(X_train[index], dtype='uint8')\n",
        "X = X.reshape((28, 28))\n",
        "fig = plt.figure()\n",
        "plt.imshow(X, cmap='gray')\n",
        "plt.show()\n",
        "if y_train[index] == 1:\n",
        "    label = 'Dress'\n",
        "else:\n",
        "    label = 'Shirt'\n",
        "print('label is', label)"
      ]
    },
    {
      "cell_type": "code",
      "execution_count": null,
      "metadata": {
        "id": "qpdpzbxaDYpO"
      },
      "outputs": [],
      "source": [
        "from tqdm.utils import disp_trim\n",
        "import numpy as np\n",
        "import matplotlib.pyplot as plt\n",
        "\n",
        "class TwoLayerNet(object):\n",
        "    \"\"\"\n",
        "    A two-layer fully-connected neural network for binary classification. \n",
        "    We train the network with a softmax loss function and L2 regularization on the\n",
        "    weight matrices. The network uses a ReLU nonlinearity after the first fully\n",
        "    connected layer.\n",
        "    Input: X\n",
        "    Hidden states for layer 1: h1 = W1X + b1\n",
        "    Activations: a2 = ReLU(h1)\n",
        "    Hidden states for layer 2: h2 = W2a2 + b2\n",
        "    Probabilities: s = softmax(h2)\n",
        "    \n",
        "    ReLU function: \n",
        "    (i) x = x if x >= 0  (ii) x = 0 if x < 0\n",
        "\n",
        "    The outputs of the second fully-connected layer are the scores for each class.\n",
        "    \"\"\"\n",
        "\n",
        "    def __init__(self, input_size, hidden_size, output_size, std=1e-4):\n",
        "        \"\"\"\n",
        "        Initialize the model. Weights are initialized to small random values and\n",
        "        biases are initialized to zero. Weights and biases are stored in the\n",
        "        variable self.params, which is a dictionary with the following keys:\n",
        "\n",
        "        W1: First layer weights; has shape (H, D)\n",
        "        b1: First layer biases; has shape (H,)\n",
        "        W2: Second layer weights; has shape (C, H)\n",
        "        b2: Second layer biases; has shape (C,)\n",
        "\n",
        "        Inputs:\n",
        "        - input_size: The dimension D of the input data.\n",
        "        - hidden_size: The number of neurons H in the hidden layer.\n",
        "        - output_size: The number of classes C.\n",
        "        \"\"\"\n",
        "        self.params = {}\n",
        "        self.params['W1'] = std * np.random.randn(hidden_size, input_size)\n",
        "        self.params['b1'] = np.zeros(hidden_size)\n",
        "        self.params['W2'] = std * np.random.randn(output_size, hidden_size)\n",
        "        self.params['b2'] = np.zeros(output_size)\n",
        "\n",
        "    def loss(self, X, y=None, reg=0.0):\n",
        "        \"\"\"\n",
        "        Compute the loss and gradients for a two layer fully connected neural\n",
        "        network.\n",
        "\n",
        "        Inputs:\n",
        "        - X: Input data of shape (N, D). Each X[i] is a training sample.\n",
        "        - y: Vector of training labels. y[i] is the label for X[i], and each y[i] is\n",
        "          an integer in the range 0 <= y[i] < C. This parameter is optional; if it\n",
        "          is not passed then we only return scores, and if it is passed then we\n",
        "          instead return the loss and gradients.\n",
        "        - reg: Regularization strength.\n",
        "\n",
        "        Returns:\n",
        "        If y is None, return a matrix scores of shape (N, C) where scores[i, c] is\n",
        "        the score for class c on input X[i].\n",
        "\n",
        "        If y is not None, instead return a tuple of:\n",
        "        - loss: Loss (data loss and regularization loss) for this batch of training\n",
        "          samples.\n",
        "        - grads: Dictionary mapping parameter names to gradients of those parameters\n",
        "          with respect to the loss function; has the same keys as self.params.\n",
        "        \"\"\"\n",
        "        # Unpack variables from the params dictionary\n",
        "        W1, b1 = self.params['W1'], self.params['b1']\n",
        "        W2, b2 = self.params['W2'], self.params['b2']\n",
        "        N, D = X.shape\n",
        "\n",
        "        # Compute the forward pass\n",
        "        scores = None\n",
        "\n",
        "        ### ========== TODO : START ========== ###\n",
        "        #   Calculate the output of the neural network using forward pass.  \n",
        "        #   The result should be (N, C), where N is the number of examples, and C is the number of classes. \n",
        "        #   The output of the second fully connected layer is the output scores (before softmax). \n",
        "        #   Do not use a for loop in your implementation.\n",
        "        #   Please use 'h1' as input of hidden layers, and 'a2' as output of \n",
        "        #   Refer to the comments at the beginning of this class for the model architecture\n",
        "        #   You may simply use np.maximun for implementing ReLU.\n",
        "        ##  Part (b): Implement the forward pass.\n",
        "        \n",
        "        h1 = np.add(np.transpose(np.matmul(W1,np.transpose(X))), np.transpose(b1)) # N by H, 200 x 50\n",
        "        a2 = np.maximum(0, h1) # N by H, 200 x 50\n",
        "        scores = np.add(np.transpose(np.matmul(W2,np.transpose(a2))), np.transpose(b2)) # N by C, 200 x 2\n",
        "    \n",
        "        ### ========== TODO : END ========== ###\n",
        "\n",
        "\n",
        "        # If the targets are not given then jump out, we're done\n",
        "        if y is None:\n",
        "            return scores\n",
        "\n",
        "        # Compute the loss\n",
        "        loss = None\n",
        "\n",
        "        # scores is num_examples by num_classes (N, C)\n",
        "        def softmax_loss(x, y):\n",
        "            ### ========== TODO : START ========== ###\n",
        "            #   Calculate the cross entropy loss after softmax output layer.\n",
        "            #   This function should return loss and dx\n",
        "            probs = np.exp(x - np.max(x, axis=1, keepdims=True))\n",
        "            probs /= np.sum(probs, axis=1, keepdims=True) # softmax output N by 2 this case\n",
        "            N = x.shape[0]\n",
        "            ##  Part (d): Implement the CrossEntropyLoss\n",
        "            log_likelihood = -np.log(probs[range(N),y])\n",
        "            loss = np.sum(log_likelihood) / N\n",
        "            ##  Part (d): Implement the gradient of y wrt x\n",
        "            dx = None\n",
        "            probs[range(N),y] -= 1\n",
        "            dx = probs/N\n",
        "            ### ========== TODO : END ========== ###\n",
        "            return loss, dx\n",
        "        \n",
        "        \n",
        "        data_loss, dscore = softmax_loss(scores, y) \n",
        "        \n",
        "        ### ========== TODO : START ========== ###\n",
        "        #   Calculate the regularization loss. Multiply the regularization\n",
        "        #   loss by 0.5 (in addition to the factor reg).\n",
        "        ##  Part (c): Implement the regularization loss\n",
        "        reg_loss = 0.5*(reg/N)*(np.linalg.norm(W1)**2+np.linalg.norm(W2)**2)\n",
        "        ### ========== TODO : END ========== ###\n",
        "\n",
        "        loss = data_loss + reg_loss\n",
        "\n",
        "        grads = {}\n",
        "\n",
        "        ### ========== TODO : START ========== ###\n",
        "        #  Compute backpropagation\n",
        "        #  Remember the loss contains two parts: cross-entropy and regularization. The computation for gradients of W1 and b1 shown here can be regarded as a reference.\n",
        "        ## Part (e): Implement the computations of gradients for W2 and b2.\n",
        "        grads['W2'] = None\n",
        "        grads['b2'] = None\n",
        "        \n",
        "        da_h = np.zeros(h1.shape)\n",
        "        da_h[h1>0] = 1\n",
        "        dh = (dscore.dot(W2) * da_h)\n",
        "\n",
        "        grads['W1'] = np.dot(dh.T,X) + reg * W1\n",
        "        grads['b1'] = np.ones(N).dot(dh)\n",
        "\n",
        "        grads['W2'] = (np.dot(h1.T, dscore)).T + reg * W2\n",
        "        grads['b2'] = np.sum(dscore, axis = 0)\n",
        "\n",
        "        ### ========== TODO : END ========== ###\n",
        "\n",
        "        return loss, grads\n",
        "\n",
        "    def train(self, X, y, X_val, y_val,\n",
        "            learning_rate=1e-3, learning_rate_decay=0.95,\n",
        "            reg=1e-5, num_iters=100,\n",
        "            batch_size=200, verbose=False):\n",
        "        \"\"\"\n",
        "        Train this neural network using stochastic gradient descent.\n",
        "\n",
        "        Inputs:\n",
        "        - X: A numpy array of shape (N, D) giving training data.\n",
        "        - y: A numpy array f shape (N,) giving training labels; y[i] = c means that\n",
        "          X[i] has label c, where 0 <= c < C.\n",
        "        - X_val: A numpy array of shape (N_val, D) giving validation data.\n",
        "        - y_val: A numpy array of shape (N_val,) giving validation labels.\n",
        "        - learning_rate: Scalar giving learning rate for optimization.\n",
        "        - learning_rate_decay: Scalar giving factor used to decay the learning rate\n",
        "          after each epoch.\n",
        "        - reg: Scalar giving regularization strength.\n",
        "        - num_iters: Number of steps to take when optimizing.\n",
        "        - batch_size: Number of training examples to use per step.\n",
        "        - verbose: boolean; if true print progress during optimization.\n",
        "        \"\"\"\n",
        "        num_train = X.shape[0]\n",
        "        iterations_per_epoch = max(num_train / batch_size, 1)\n",
        "\n",
        "        # Use SGD to optimize the parameters in self.model\n",
        "        loss_history = []\n",
        "        train_acc_history = []\n",
        "        val_acc_history = []\n",
        "\n",
        "        for it in np.arange(num_iters):\n",
        "            X_batch = None\n",
        "            y_batch = None\n",
        "\n",
        "            #   Create a minibatch (X_batch, y_batch) by sampling batch_size \n",
        "            #   samples randomly.\n",
        "\n",
        "            b_index = np.random.choice(num_train, batch_size)\n",
        "            X_batch = X[b_index]\n",
        "            y_batch = y[b_index]\n",
        "\n",
        "            # Compute loss and gradients using the current minibatch\n",
        "            loss, grads = self.loss(X_batch, y=y_batch, reg=reg)\n",
        "            loss_history.append(loss)\n",
        "\n",
        "            \n",
        "            self.params['W1'] -= learning_rate * grads['W1']\n",
        "            self.params['b1'] -= learning_rate * grads['b1']\n",
        "            self.params['W2'] -= learning_rate * grads['W2']\n",
        "            self.params['b2'] -= learning_rate * grads['b2']\n",
        "\n",
        "\n",
        "            if verbose and it % 100 == 0:\n",
        "                print('iteration {} / {}: loss {}'.format(it, num_iters, loss))\n",
        "\n",
        "            # Every epoch, check train and val accuracy and decay learning rate.\n",
        "            if it % iterations_per_epoch == 0:\n",
        "                # Check accuracy\n",
        "                train_acc = (self.predict(X_batch) == y_batch).mean()\n",
        "                val_acc = (self.predict(X_val) == y_val).mean()\n",
        "                train_acc_history.append(train_acc)\n",
        "                val_acc_history.append(val_acc)\n",
        "\n",
        "                # Decay learning rate\n",
        "                learning_rate *= learning_rate_decay\n",
        "\n",
        "        return {\n",
        "          'loss_history': loss_history,\n",
        "          'train_acc_history': train_acc_history,\n",
        "          'val_acc_history': val_acc_history,\n",
        "        }\n",
        "\n",
        "    def predict(self, X):\n",
        "        \"\"\"\n",
        "        Use the trained weights of this two-layer network to predict labels for\n",
        "        data points. For each data point we predict scores for each of the C\n",
        "        classes, and assign each data point to the class with the highest score.\n",
        "\n",
        "        Inputs:\n",
        "        - X: A numpy array of shape (N, D) giving N D-dimensional data points to\n",
        "          classify.\n",
        "\n",
        "        Returns:\n",
        "        - y_pred: A numpy array of shape (N,) giving predicted labels for each of\n",
        "          the elements of X. For all i, y_pred[i] = c means that X[i] is predicted\n",
        "          to have class c, where 0 <= c < C.\n",
        "        \"\"\"\n",
        "        y_pred = None\n",
        "\n",
        "        ### ========== TODO : START ========== ###\n",
        "        #   Predict the class given the input data.\n",
        "        ##  Part (f): Implement the prediction function\n",
        "        pass\n",
        "        W1, b1 = self.params['W1'], self.params['b1']\n",
        "        W2, b2 = self.params['W2'], self.params['b2']\n",
        "\n",
        "        h1 = np.add(np.transpose(np.matmul(W1,np.transpose(X))), np.transpose(b1))\n",
        "        a2 = np.maximum(0, h1)\n",
        "        scores = np.add(np.transpose(np.matmul(W2,np.transpose(a2))), np.transpose(b2))\n",
        "        y_pred = np.argmax(scores, axis = 1)\n",
        "        ### ========== TODO : END ========== ###\n",
        "\n",
        "        return y_pred\n",
        "\n",
        "\n"
      ]
    },
    {
      "cell_type": "code",
      "execution_count": null,
      "metadata": {
        "colab": {
          "base_uri": "https://localhost:8080/"
        },
        "id": "TqQtNxY9Dyur",
        "outputId": "51128822-a80b-40c9-d7a7-185e907210c5"
      },
      "outputs": [
        {
          "name": "stdout",
          "output_type": "stream",
          "text": [
            "iteration 0 / 1000: loss 0.6931102537075774\n",
            "iteration 100 / 1000: loss 0.6928643607317636\n",
            "iteration 200 / 1000: loss 0.6923899739988836\n",
            "iteration 300 / 1000: loss 0.6911206110683289\n",
            "iteration 400 / 1000: loss 0.6891038312472602\n",
            "iteration 500 / 1000: loss 0.6862809640515158\n",
            "iteration 600 / 1000: loss 0.6766872541315821\n",
            "iteration 700 / 1000: loss 0.6684359920134629\n",
            "iteration 800 / 1000: loss 0.6576873286263825\n",
            "iteration 900 / 1000: loss 0.639682312025803\n",
            "learning_rate:  1e-05\n",
            "Validation accuracy:  0.778\n",
            "Test accuracy (subopt_net):  0.758\n",
            "iteration 0 / 1000: loss 0.6274941428482251\n",
            "iteration 100 / 1000: loss 0.2556677026449078\n",
            "iteration 200 / 1000: loss 0.21322670335399052\n",
            "iteration 300 / 1000: loss 0.11250224825273387\n",
            "iteration 400 / 1000: loss 0.11290482909104427\n",
            "iteration 500 / 1000: loss 0.10498759642558401\n",
            "iteration 600 / 1000: loss 0.08983628020767692\n",
            "iteration 700 / 1000: loss 0.10350242825222766\n",
            "iteration 800 / 1000: loss 0.0714222824790378\n",
            "iteration 900 / 1000: loss 0.09805169992403041\n",
            "learning_rate:  0.0001\n",
            "Validation accuracy:  0.952\n",
            "Test accuracy (subopt_net):  0.94\n",
            "iteration 0 / 1000: loss 0.10671130768415936\n",
            "iteration 100 / 1000: loss 0.7061008357426436\n",
            "iteration 200 / 1000: loss 0.5604256002597275\n",
            "iteration 300 / 1000: loss 0.7774843617293685\n",
            "iteration 400 / 1000: loss 1.2584154569220845\n",
            "iteration 500 / 1000: loss 1.2832629084682154\n",
            "iteration 600 / 1000: loss 1.328199843266726\n",
            "iteration 700 / 1000: loss 1.3950433623443597\n",
            "iteration 800 / 1000: loss 1.4755123196845246\n",
            "iteration 900 / 1000: loss 1.5383349551259684\n",
            "learning_rate:  0.001\n",
            "Validation accuracy:  0.464\n",
            "Test accuracy (subopt_net):  0.5\n",
            "iteration 0 / 1000: loss 1.617365359617534\n",
            "iteration 100 / 1000: loss 3.275921774173493\n",
            "iteration 200 / 1000: loss 5.616969001534094\n",
            "iteration 300 / 1000: loss 8.254585367176132\n",
            "iteration 400 / 1000: loss 10.87222939648782\n",
            "iteration 500 / 1000: loss 13.355050243500324\n",
            "iteration 600 / 1000: loss 15.57858234582253\n",
            "iteration 700 / 1000: loss 17.645251070254798\n",
            "iteration 800 / 1000: loss 19.4696519360285\n",
            "iteration 900 / 1000: loss 21.0965443482048\n",
            "learning_rate:  0.005\n",
            "Validation accuracy:  0.464\n",
            "Test accuracy (subopt_net):  0.5\n",
            "iteration 0 / 1000: loss 22.53317019076842\n",
            "iteration 100 / 1000: loss 49.47444186374267\n",
            "iteration 200 / 1000: loss 26.56568581062469\n"
          ]
        },
        {
          "name": "stderr",
          "output_type": "stream",
          "text": [
            "/usr/local/lib/python3.7/dist-packages/ipykernel_launcher.py:109: RuntimeWarning: divide by zero encountered in log\n"
          ]
        },
        {
          "name": "stdout",
          "output_type": "stream",
          "text": [
            "iteration 300 / 1000: loss 1764247489.551654\n",
            "iteration 400 / 1000: loss 2332442533.6536674\n",
            "iteration 500 / 1000: loss 1609694859.9727278\n",
            "iteration 600 / 1000: loss 821965864.2431281\n",
            "iteration 700 / 1000: loss 465178108.4986921\n",
            "iteration 800 / 1000: loss 268985367.34296316\n",
            "iteration 900 / 1000: loss 162299172.1569745\n",
            "learning_rate:  0.1\n",
            "Validation accuracy:  0.464\n",
            "Test accuracy (subopt_net):  0.5\n"
          ]
        }
      ],
      "source": [
        "input_size = 784\n",
        "hidden_size = 50\n",
        "num_classes = 2\n",
        "net = TwoLayerNet(input_size, hidden_size, num_classes)\n",
        "\n",
        "# Train the network\n",
        "for learning_rate in [1e-5, 1e-4, 1e-3, 5e-3, 1e-1]:\n",
        "  stats = net.train(X_train, y_train, X_val, y_val,\n",
        "              num_iters=1000, batch_size=200,\n",
        "              learning_rate=learning_rate, learning_rate_decay=0.95,\n",
        "              reg=0.1, verbose=True)\n",
        "\n",
        "  # Predict on the validation set\n",
        "  val_acc = (net.predict(X_val) == y_val).mean()\n",
        "  print('learning_rate: ', learning_rate)\n",
        "  print('Validation accuracy: ', val_acc)\n",
        "\n",
        "  # Save this net as the variable subopt_net for later comparison.\n",
        "  subopt_net = net\n",
        "  test_acc = (subopt_net.predict(X_test) == y_test).mean()\n",
        "  print('Test accuracy (subopt_net): ', test_acc)"
      ]
    }
  ],
  "metadata": {
    "colab": {
      "provenance": []
    },
    "kernelspec": {
      "display_name": "Python 3",
      "name": "python3"
    },
    "language_info": {
      "name": "python"
    }
  },
  "nbformat": 4,
  "nbformat_minor": 0
}
