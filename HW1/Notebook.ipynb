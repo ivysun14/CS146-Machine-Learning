{
 "cells": [
  {
   "cell_type": "code",
   "execution_count": 1,
   "id": "0a0b1697",
   "metadata": {},
   "outputs": [],
   "source": [
    "import numpy as np\n",
    "import matplotlib.pyplot as plt\n",
    "import random\n",
    "import csv\n",
    "from utils import mnist_reader\n",
    "from utils.data_load import load\n",
    "import codes\n",
    "# Load matplotlib images inline\n",
    "%matplotlib inline\n",
    "# These are important for reloading any code you write in external .py files.\n",
    "# see http://stackoverflow.com/questions/1907993/autoreload-of-modules-in-ipython\n",
    "%load_ext autoreload\n",
    "%autoreload 2"
   ]
  },
  {
   "attachments": {},
   "cell_type": "markdown",
   "id": "7b600c97",
   "metadata": {},
   "source": [
    "# Problem: Binary Classification\n",
    "\n",
    "In this exercise, you will work through a family of binary classifications. Our data consists of inputs $x_n \\in \\mathbb{R}^{1*d}$ and labels $y_n \\in \\{-1,1\\}$ for $n \\in \\{1,...,N\\}$. We will work on a subset of the Fashion-MNIST dataset which focuses on classifying whether the image is for a $Dress (y = 1)$ or a $Shirt (y = -1)$. Your goal is to learn a classifier based on linear predictor $h_\\textbf{w}(x) = \\textbf{w}^Tx$. Let\n",
    "\n",
    "$\\textbf{X} = \\begin{bmatrix} x_1 \\\\ \\vdots \\\\ x_N \\end{bmatrix} \\in \\mathbb{R}^{N*d}$, $\\textbf{y} = \\begin{bmatrix} y_1 \\\\ \\vdots \\\\ y_N \\end{bmatrix} \\in \\{1, -1\\}^N$\n",
    "\n",
    "Please follow our instructions in the same order to solve the binary classification problem.\n",
    "Please print out the entire results and codes when completed."
   ]
  },
  {
   "cell_type": "code",
   "execution_count": 31,
   "id": "f8738d96",
   "metadata": {},
   "outputs": [
    {
     "name": "stdout",
     "output_type": "stream",
     "text": [
      "Train data shape:  (5000, 784)\n",
      "Train target shape:  (5000, 1)\n",
      "Test data shape:  (500, 784)\n",
      "Test target shape:  (500, 1)\n"
     ]
    }
   ],
   "source": [
    "#X_train, y_train = mnist_reader.load_mnist('fashion-mnist/data/fashion', kind='train')\n",
    "#X_test, y_test = mnist_reader.load_mnist('fashion-mnist/data/fashion', kind='t10k')\n",
    "\n",
    "X_train = np.load('./data/binary_classification/X_train.npy')\n",
    "y_train = np.load('./data/binary_classification/y_train.npy')\n",
    "X_test = np.load('./data/binary_classification/X_test.npy')\n",
    "y_test = np.load('./data/binary_classification/y_test.npy')\n",
    "\n",
    "print('Train data shape: ', X_train.shape)\n",
    "print('Train target shape: ', y_train.shape)\n",
    "print('Test data shape: ',X_test.shape)\n",
    "print('Test target shape: ',y_test.shape)"
   ]
  },
  {
   "cell_type": "code",
   "execution_count": 3,
   "id": "ac8d87ac",
   "metadata": {
    "scrolled": true
   },
   "outputs": [
    {
     "data": {
      "image/png": "[encoded data removed]",
      "text/plain": [
       "<Figure size 432x288 with 1 Axes>"
      ]
     },
     "metadata": {
      "needs_background": "light"
     },
     "output_type": "display_data"
    },
    {
     "name": "stdout",
     "output_type": "stream",
     "text": [
      "label is Shirt\n"
     ]
    }
   ],
   "source": [
    "# PART (a): \n",
    "# To Visualize a point in the dataset\n",
    "index = 11\n",
    "X = np.array(X_train[index], dtype='uint8')\n",
    "X = X.reshape((28, 28))\n",
    "fig = plt.figure()\n",
    "plt.imshow(X, cmap='gray')\n",
    "plt.show()\n",
    "if y_train[index] == 1:\n",
    "    label = 'Dress'\n",
    "else:\n",
    "    label = 'Shirt'\n",
    "print('label is', label)"
   ]
  },
  {
   "cell_type": "markdown",
   "id": "0b25ec28",
   "metadata": {},
   "source": [
    "## Train Perceptron\n",
    "In the following cells, you will build Perceptron Algorithm."
   ]
  },
  {
   "cell_type": "code",
   "execution_count": 14,
   "id": "179b3de7",
   "metadata": {},
   "outputs": [
    {
     "name": "stdout",
     "output_type": "stream",
     "text": [
      "There are 5000 values in loss_hist array.\n",
      "The final value of the loss function is 0.0.\n",
      "The squared l2-norm of the final weight vector is 659979038983.0.\n",
      "There are 45 misclassified points in the test data using the trained perceptron.\n"
     ]
    },
    {
     "data": {
      "image/png": "[encoded data removed]",
      "text/plain": [
       "<Figure size 432x288 with 1 Axes>"
      ]
     },
     "metadata": {
      "needs_background": "light"
     },
     "output_type": "display_data"
    }
   ],
   "source": [
    "# PART (b),(c): \n",
    "# Implement the perceptron Algorithm and compute the number of mis-classified point\n",
    "N = X_train.shape[0] # Number of data point train\n",
    "N_test = X_test.shape[0] # Number of data point test\n",
    "d = X_train.shape[1] # Number of features\n",
    "loss_hist = []\n",
    "W = np.zeros((d+1,1))\n",
    "X_train_h = np.hstack((np.ones((N,1)), X_train))\n",
    "X_test_h = np.hstack((np.ones((N_test,1)), X_test))\n",
    "# ================================================================ #\n",
    "# YOUR CODE HERE:\n",
    "# complete the following code to plot both the training and test accuracy in the same plot\n",
    "# for m range from 1 to N\n",
    "# ================================================================ #\n",
    "\n",
    "for ite in range(N): # max # of iteration = N\n",
    "    count = 0\n",
    "    for i in range(N): # ite through each data\n",
    "        x_i = np.reshape(X_train_h[i], (d+1, 1))\n",
    "        if y_train[i]*(np.dot(np.transpose(W), x_i)) <= 0:\n",
    "            count += 1\n",
    "            W = W + y_train[i]*x_i\n",
    "    loss_hist.append((count/N)*100) # percentage of mis-classified pts each ite\n",
    "\n",
    "print(f\"There are {len(loss_hist)} values in loss_hist array.\")\n",
    "print(f\"The final value of the loss function is {loss_hist[len(loss_hist)-1]}.\")\n",
    "L2_square = (np.linalg.norm(W))**2\n",
    "print(f\"The squared l2-norm of the final weight vector is {L2_square}.\")\n",
    "\n",
    "# graphing the loss function\n",
    "x_axis = np.arange(1, N+1)\n",
    "plt.plot(x_axis, loss_hist)\n",
    "plt.xlabel('Number of Iterations')\n",
    "plt.ylabel('# mis-classified points(%)')\n",
    "plt.title('History of loss function')\n",
    "\n",
    "# Using trained perceptron\n",
    "error = 0\n",
    "for j in range(N_test): # for each test data\n",
    "    x_j = np.reshape(X_test_h[j], (d+1, 1))\n",
    "    h_j = np.dot(np.transpose(W), x_j)\n",
    "    if h_j < 0: \n",
    "        predic = -1\n",
    "    elif h_j > 0: \n",
    "        predic = 1\n",
    "    if predic != y_test[j]:\n",
    "        error += 1\n",
    "print(f\"There are {error} misclassified points in the test data using the trained perceptron.\")\n",
    "\n",
    "# ================================================================ #\n",
    "# END YOUR CODE HERE\n",
    "# ================================================================ #"
   ]
  },
  {
   "cell_type": "markdown",
   "id": "39fc7def",
   "metadata": {},
   "source": [
    "## Train Logistic Regression\n",
    "In the following cells, you will build a logistic regression. You will implement its loss function, then subsequently train it with gradient descent."
   ]
  },
  {
   "cell_type": "code",
   "execution_count": 33,
   "id": "4a9d5aa6",
   "metadata": {},
   "outputs": [],
   "source": [
    "from codes.Logistic import Logistic"
   ]
  },
  {
   "cell_type": "code",
   "execution_count": 37,
   "id": "b7f22319",
   "metadata": {},
   "outputs": [
    {
     "name": "stdout",
     "output_type": "stream",
     "text": [
      "Loss function= [0.69314718]\n",
      "188442.9086032702\n"
     ]
    }
   ],
   "source": [
    "## PART (f): \n",
    "X_train = np.load('./data/binary_classification/X_train.npy')\n",
    "y_train = np.load('./data/binary_classification/y_train.npy')\n",
    "X_test = np.load('./data/binary_classification/X_test.npy')\n",
    "y_test = np.load('./data/binary_classification/y_test.npy')\n",
    "## Complete loss_and_grad function in Logistic.py file and test your results.\n",
    "N,d = X_train.shape\n",
    "logistic = Logistic(d=d, reg_param=0)\n",
    "loss, grad = logistic.loss_and_grad(X_train,y_train)\n",
    "print('Loss function=',loss)\n",
    "print(np.linalg.norm(grad,ord=2)**2)"
   ]
  },
  {
   "cell_type": "code",
   "execution_count": 38,
   "id": "1698d8f6",
   "metadata": {},
   "outputs": [
    {
     "data": {
      "image/png": "[encoded data removed]",
      "text/plain": [
       "<Figure size 432x288 with 1 Axes>"
      ]
     },
     "metadata": {
      "needs_background": "light"
     },
     "output_type": "display_data"
    },
    {
     "name": "stdout",
     "output_type": "stream",
     "text": [
      "Weight squared norm 1.2504382267755798e-05\n",
      "Final loss [-99.54762804]\n"
     ]
    }
   ],
   "source": [
    "## PART (g):\n",
    "## Complete train_LR function in Logisitc.py file\n",
    "loss_history, w = logistic.train_LR(X_train,y_train, eta=1e-6,batch_size=100, num_iters=5000)\n",
    "fig = plt.figure()\n",
    "plt.plot(loss_history)\n",
    "plt.xlabel('iterations')\n",
    "plt.ylabel('Loss function')\n",
    "plt.show()\n",
    "fig.savefig('./plots/LR_loss_hist.pdf')\n",
    "print('Weight squared norm',np.linalg.norm(w,ord=2)**2)\n",
    "print('Final loss',loss_history[-1])"
   ]
  },
  {
   "cell_type": "code",
   "execution_count": 52,
   "id": "e189bbb4",
   "metadata": {},
   "outputs": [
    {
     "name": "stdout",
     "output_type": "stream",
     "text": [
      "7.4 %\n"
     ]
    }
   ],
   "source": [
    "# PART (h)\n",
    "# Complete predict function in Logisitc.py file and compute the percentage of mis-classified points\n",
    "y_pred = logistic.predict(X_test)\n",
    "test_err = np.sum((y_test!=y_pred))*100/X_test.shape[0]\n",
    "print(test_err,'%')"
   ]
  },
  {
   "cell_type": "code",
   "execution_count": null,
   "id": "ed9e8d0d",
   "metadata": {},
   "outputs": [],
   "source": [
    "## PART (i): \n",
    "Batch = [1, 50 , 100, 200, 300]\n",
    "test_err = np.zeros((len(Batch),1))\n",
    "# ================================================================ #\n",
    "# YOUR CODE HERE:\n",
    "# Train the Logistic regression for different batch size. Avergae the test error over 10 times\n",
    "# ================================================================ #\n",
    "\n",
    "for i in range(len(Batch)): # for each batch size\n",
    "    error_arr = np.zeros(50) \n",
    "    for ite in range(50): # train the model 50 times\n",
    "        N, d = X_train.shape\n",
    "        logistic = Logistic(d=d, reg_param=0)\n",
    "        loss_history, w = logistic.train_LR(\n",
    "            X_train, y_train, eta=1e-5, batch_size=Batch[i], num_iters=6000/Batch[i])\n",
    "        y_pred = logistic.predict(X_test)\n",
    "        error_arr[ite] = np.sum((y_test != y_pred))*100/X_test.shape[0]\n",
    "    test_err[i] = np.sum(error_arr)/len(error_arr)\n",
    "\n",
    "# ================================================================ #\n",
    "# END YOUR CODE HERE\n",
    "# ================================================================ #\n",
    "fig = plt.figure()\n",
    "plt.plot(Batch,test_err)\n",
    "plt.xlabel('Batch_size')\n",
    "plt.ylabel('Test_error')\n",
    "plt.show()\n",
    "fig.savefig('./plots/LR_Batch_test.pdf')"
   ]
  },
  {
   "attachments": {},
   "cell_type": "markdown",
   "id": "c8b02faa",
   "metadata": {},
   "source": [
    "# Problem: Linear Regression\n",
    "In this exercise, you will work through linear and polynomial regression. Our data consists of inputs $x_n \\in \\mathbb{R}$ and outputs $y_n \\in \\mathbb{R},n \\in \\{1,...,N\\}$, which are related through a target function $y = f(x)$. Your goal is to learn a linear predictor $h_\\textbf{w}(x)$ that best approximates $f(x)$.\n",
    "\n",
    "Please follow our instructions in the same order to solve the linear regresssion problem.\n",
    "\n",
    "Please print out the entire results and codes when completed."
   ]
  },
  {
   "cell_type": "code",
   "execution_count": 4,
   "id": "f58463ae",
   "metadata": {},
   "outputs": [
    {
     "name": "stdout",
     "output_type": "stream",
     "text": [
      "Train data shape:  (30, 1)\n",
      "Train target shape:  (30,)\n",
      "Test data shape:  (30, 1)\n",
      "Test target shape:  (30,)\n"
     ]
    }
   ],
   "source": [
    "def get_data():\n",
    "    \"\"\"\n",
    "    Load the dataset from disk and perform preprocessing to prepare it for the linear regression problem.   \n",
    "    \"\"\"\n",
    "    X_train, y_train = load('./data/regression/regression_train.csv')\n",
    "    X_test, y_test = load('./data/regression/regression_test.csv')\n",
    "    return X_train, y_train, X_test, y_test\n",
    "\n",
    "X_train, y_train, X_test, y_test= get_data()  \n",
    "\n",
    "\n",
    "print('Train data shape: ', X_train.shape)\n",
    "print('Train target shape: ', y_train.shape)\n",
    "print('Test data shape: ',X_test.shape)\n",
    "print('Test target shape: ',y_test.shape)"
   ]
  },
  {
   "cell_type": "code",
   "execution_count": 55,
   "id": "dd86d6ee",
   "metadata": {},
   "outputs": [
    {
     "data": {
      "image/png": "[encoded data removed]",
      "text/plain": [
       "<Figure size 432x288 with 1 Axes>"
      ]
     },
     "metadata": {
      "needs_background": "light"
     },
     "output_type": "display_data"
    }
   ],
   "source": [
    "## PART (a): \n",
    "## Plot the training and test data ##\n",
    "\n",
    "plt.plot(X_train, y_train,'o', color='black')\n",
    "plt.plot(X_test, y_test,'o', color='blue')\n",
    "plt.xlabel('Train data')\n",
    "plt.ylabel('Target')\n",
    "plt.show()"
   ]
  },
  {
   "cell_type": "markdown",
   "id": "f811ca3b",
   "metadata": {},
   "source": [
    "## Training Linear Regression\n",
    "In the following cells, you will build a linear regression. You will implement its loss function, then subsequently train it with gradient descent. You will choose the learning rate of gradient descent to optimize its classification performance. Finally, you will get the opimal solution using closed form expression."
   ]
  },
  {
   "cell_type": "code",
   "execution_count": 2,
   "id": "15b2f9e7",
   "metadata": {},
   "outputs": [],
   "source": [
    "from codes.Regression import Regression"
   ]
  },
  {
   "cell_type": "code",
   "execution_count": 5,
   "id": "b1342f60",
   "metadata": {},
   "outputs": [
    {
     "name": "stdout",
     "output_type": "stream",
     "text": [
      "Loss value [4.28238063]\n",
      "Gradient value [[ -3.19217252]\n",
      " [-10.44504584]]\n"
     ]
    }
   ],
   "source": [
    "## PART (d): \n",
    "## Complete loss_and_grad function in Regression.py file and test your results.\n",
    "regression = Regression(m=1, reg_param=0)\n",
    "loss, grad = regression.loss_and_grad(X_train,y_train)\n",
    "print('Loss value',loss)\n",
    "print('Gradient value',grad)\n",
    "##"
   ]
  },
  {
   "cell_type": "code",
   "execution_count": 6,
   "id": "f5d3fde2",
   "metadata": {},
   "outputs": [
    {
     "data": {
      "image/png": "[encoded data removed]",
      "text/plain": [
       "<Figure size 432x288 with 1 Axes>"
      ]
     },
     "metadata": {
      "needs_background": "light"
     },
     "output_type": "display_data"
    },
    {
     "name": "stdout",
     "output_type": "stream",
     "text": [
      "[[0.1366554 ]\n",
      " [0.70691231]]\n",
      "Final loss: [0.44573285]\n"
     ]
    }
   ],
   "source": [
    "## PART (d): \n",
    "## Complete train_LR function in Regression.py file \n",
    "loss_history, w = regression.train_LR(X_train,y_train, eta=1e-3,batch_size=30, num_iters=10000)\n",
    "plt.plot(loss_history)\n",
    "plt.xlabel('iterations')\n",
    "plt.ylabel('Loss function')\n",
    "plt.show()\n",
    "print(w)\n",
    "print('Final loss:',loss_history[-1])"
   ]
  },
  {
   "cell_type": "code",
   "execution_count": 28,
   "id": "44c37de4",
   "metadata": {},
   "outputs": [
    {
     "name": "stdout",
     "output_type": "stream",
     "text": [
      "[[-0.37632138]\n",
      " [ 0.89607771]]\n",
      "[0.24687249]\n",
      "[[-0.26193064]\n",
      " [ 0.847731  ]]\n",
      "[0.27762871]\n",
      "[[0.13552822]\n",
      " [0.70668941]]\n",
      "[0.19716157]\n",
      "[[0.08148543]\n",
      " [0.2739193 ]]\n",
      "[1.98674622]\n"
     ]
    },
    {
     "data": {
      "image/png": "[encoded data removed]",
      "text/plain": [
       "<Figure size 432x288 with 1 Axes>"
      ]
     },
     "metadata": {
      "needs_background": "light"
     },
     "output_type": "display_data"
    }
   ],
   "source": [
    "## PART (d) (Different Learning Rates):\n",
    "from numpy.linalg import norm\n",
    "lrs = [1e-1, 1e-2, 1e-3, 1e-4]\n",
    "test_err = np.zeros((len(lrs),1))\n",
    "# ================================================================ #\n",
    "# YOUR CODE HERE:\n",
    "# Train the Logistic regression for different learning rates and average the test error over 10 times\n",
    "# ================================================================ #\n",
    "for i in range(len(lrs)):  # for each learning rate\n",
    "    error_arr = np.zeros(50)\n",
    "    for ite in range(50):  # train the model 50 times\n",
    "        regression = Regression(m=1, reg_param=0)\n",
    "        loss_history, w = regression.train_LR(\n",
    "            X_train, y_train, eta=lrs[i], batch_size=30, num_iters=10000)\n",
    "        y_pred = regression.predict(X_test)\n",
    "        error_sum = 0\n",
    "        for j in range(len(y_pred)):\n",
    "            if round(y_test[j]) != round(y_pred[j]):\n",
    "                error_sum += 1\n",
    "        error_arr[ite] = error_sum*100/X_test.shape[0]\n",
    "    test_err[i] = np.sum(error_arr)/len(error_arr)\n",
    "    print(w)\n",
    "    print(loss_history[-1])\n",
    "# ================================================================ #\n",
    "# END YOUR CODE HERE\n",
    "# ================================================================ #\n",
    "fig = plt.figure()\n",
    "plt.plot(lrs,test_err)\n",
    "plt.xlabel('Learning Rate')\n",
    "plt.ylabel('Test_error')\n",
    "plt.show()\n",
    "fig.savefig('./plots/LR_Batch_test_li.pdf')"
   ]
  },
  {
   "cell_type": "code",
   "execution_count": 9,
   "id": "a89a015f",
   "metadata": {},
   "outputs": [
    {
     "name": "stdout",
     "output_type": "stream",
     "text": [
      "Optimal solution loss 0.2641793820396444\n",
      "Optimal solution gradient [-0.37906992  0.8852483 ]\n"
     ]
    }
   ],
   "source": [
    "## PART (e): \n",
    "## Complete closed_form function in Regression.py file\n",
    "regression = Regression(m=1, reg_param=0)\n",
    "loss_2, w_2 = regression.closed_form(X_train, y_train)\n",
    "print('Optimal solution loss',loss_2)\n",
    "print('Optimal solution gradient',w_2)"
   ]
  },
  {
   "cell_type": "code",
   "execution_count": 29,
   "id": "5851b01c",
   "metadata": {},
   "outputs": [
    {
     "data": {
      "image/png": "[encoded data removed]",
      "text/plain": [
       "<Figure size 432x288 with 1 Axes>"
      ]
     },
     "metadata": {
      "needs_background": "light"
     },
     "output_type": "display_data"
    }
   ],
   "source": [
    "## PART (g): \n",
    "train_loss=np.zeros((10,1))\n",
    "test_loss=np.zeros((10,1))\n",
    "# ================================================================ #\n",
    "# YOUR CODE HERE:\n",
    "# complete the following code to plot both the training and test loss in the same plot\n",
    "# for m range from 1 to 10\n",
    "# ================================================================ #\n",
    "for i in range(1, 11):\n",
    "    regression = Regression(m=i, reg_param=0)\n",
    "    loss_closed, w_closed = regression.closed_form(X_train, y_train)\n",
    "    train_loss[i-1] = loss_closed\n",
    "    \n",
    "    y_pred = regression.predict(X_test) # predict label on test data using obtained \n",
    "    difference = np.subtract(np.transpose(y_pred), y_test)\n",
    "    loss = (1/X_test.shape[0])*np.dot(np.transpose(difference), difference)\n",
    "\n",
    "    test_loss[i-1] = loss\n",
    "# ================================================================ #\n",
    "# END YOUR CODE HERE\n",
    "# ================================================================ #\n",
    "m = [1,2,3,4,5,6,7,8,9,10]\n",
    "plt.plot(m,train_loss)\n",
    "plt.plot(m,test_loss, color='black')\n",
    "plt.xlabel('m')\n",
    "plt.ylabel('loss')\n",
    "plt.show()"
   ]
  },
  {
   "cell_type": "code",
   "execution_count": 30,
   "id": "b464abca",
   "metadata": {},
   "outputs": [
    {
     "data": {
      "image/png": "[encoded data removed]",
      "text/plain": [
       "<Figure size 432x288 with 1 Axes>"
      ]
     },
     "metadata": {
      "needs_background": "light"
     },
     "output_type": "display_data"
    }
   ],
   "source": [
    "#PART (i): \n",
    "train_loss=np.zeros((10,1))\n",
    "test_loss=np.zeros((10,1))\n",
    "# ================================================================ #\n",
    "# YOUR CODE HERE:\n",
    "# complete the following code to plot both the training and test loss in the same plot\n",
    "# ================================================================ #\n",
    "reg = [0, 1e-8,1e-7,1e-6,1e-5,1e-4,1e-3,1e-2,1e-1,1]\n",
    "\n",
    "for i in range(len(reg)):\n",
    "    regression = Regression(m=10, reg_param=i)\n",
    "    loss_history, w = regression.train_LR(\n",
    "        X_train, y_train, eta=1e-3, batch_size=30, num_iters=10000)\n",
    "\n",
    "    # using learned weight vector(regularized) to compute loss\n",
    "    loss_train, grad_train = regression.loss_and_grad(X_train, y_train)\n",
    "    loss_test, grad_test = regression.loss_and_grad(X_test, y_test)\n",
    "\n",
    "    train_loss[i] = loss_train\n",
    "    test_loss[i] = loss_test\n",
    "\n",
    "# ================================================================ #\n",
    "# END YOUR CODE HERE\n",
    "# ================================================================ #\n",
    "x=[1,2,3,4,5,6,7,8,9,10]\n",
    "plt.plot(x,train_loss)\n",
    "plt.plot(x,test_loss, color='black')\n",
    "plt.xlabel('regulation term(log scale)')\n",
    "plt.ylabel('loss')\n",
    "plt.show()"
   ]
  }
 ],
 "metadata": {
  "kernelspec": {
   "display_name": "Python 3 (ipykernel)",
   "language": "python",
   "name": "python3"
  },
  "language_info": {
   "codemirror_mode": {
    "name": "ipython",
    "version": 3
   },
   "file_extension": ".py",
   "mimetype": "text/x-python",
   "name": "python",
   "nbconvert_exporter": "python",
   "pygments_lexer": "ipython3",
   "version": "3.10.2"
  }
 },
 "nbformat": 4,
 "nbformat_minor": 5
}
